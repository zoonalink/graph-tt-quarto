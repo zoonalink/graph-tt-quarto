{
 "cells": [
  {
   "cell_type": "markdown",
   "metadata": {},
   "source": [
    "# Cypher queries for Neo4j"
   ]
  },
  {
   "cell_type": "markdown",
   "metadata": {},
   "source": [
    "## Relationships\n",
    "\n",
    "**created post data loading via ETL**\n",
    "\n",
    "* could be used in demo - delete queries included\n",
    "  \n",
    "* (student)-[REGISTERED_ON]->(programme)\n",
    "* (student)-[ENROLLED_ON]->(module)\n",
    "* (activity)-[HAS_TYPE]->(activity_type)\n",
    "* (module)-[HAS_OWNING_DEPT]->(department)\n",
    "* (programme)-[HAS_OWNING_DEPT]->(department)"
   ]
  },
  {
   "cell_type": "markdown",
   "metadata": {},
   "source": [
    "### (student)-[REGISTERED_ON]->(programme)\n",
    "\n"
   ]
  },
  {
   "cell_type": "raw",
   "metadata": {
    "vscode": {
     "languageId": "raw"
    }
   },
   "source": [
    "// Create REGISTERED_ON relationship between student and programme nodes\n",
    "\n",
    "// Match student and programme nodes based on matching properties\n",
    "MATCH (s:student), (p:programme)\n",
    "WHERE s.stuProgSplusID = p.posSplusID\n",
    "\n",
    "// Create REGISTERED_ON relationship\n",
    "MERGE (s)-[:REGISTERED_ON]->(p)"
   ]
  },
  {
   "cell_type": "raw",
   "metadata": {
    "vscode": {
     "languageId": "raw"
    }
   },
   "source": [
    "// Delete REGISTERED_ON relationships\n",
    "MATCH (:student)-[r:REGISTERED_ON]->(:programme)\n",
    "DELETE r"
   ]
  },
  {
   "cell_type": "markdown",
   "metadata": {},
   "source": [
    "### (student)-[ENROLLED_ON]->(module)"
   ]
  },
  {
   "cell_type": "markdown",
   "metadata": {},
   "source": [
    "// Create ENROLLED_ON relationship between students and modules \n",
    "\n",
    "// Match student, activity, and module nodes based on ATTEND and BELONGS_TO relationships\n",
    "MATCH (s:student)-[:ATTENDS]->(a:activity)-[:BELONGS_TO]->(m:module)\n",
    "\n",
    "// Create ENROLLED_ON relationship\n",
    "MERGE (s)-[:ENROLLED_ON]->(m)"
   ]
  },
  {
   "cell_type": "raw",
   "metadata": {
    "vscode": {
     "languageId": "raw"
    }
   },
   "source": [
    "// Delete ENROLLED_ON relationships\n",
    "MATCH (:student)-[r:ENROLLED_ON]->(:module)\n",
    "DELETE r"
   ]
  },
  {
   "cell_type": "markdown",
   "metadata": {},
   "source": [
    "### (activity)-[HAS_TYPE]->(activity_type)"
   ]
  },
  {
   "cell_type": "raw",
   "metadata": {
    "vscode": {
     "languageId": "raw"
    }
   },
   "source": [
    "// Create HAS_TYPE relationship between activity and activityType nodes\n",
    "\n",
    "// Match activity and activityType nodes based on matching properties\n",
    "MATCH (a:activity), (at:activityType)\n",
    "WHERE a.actTypeName = at.actTypeDescription\n",
    "\n",
    "// Create HAS_TYPE relationship\n",
    "MERGE (a)-[:HAS_TYPE]->(at)"
   ]
  },
  {
   "cell_type": "raw",
   "metadata": {
    "vscode": {
     "languageId": "raw"
    }
   },
   "source": [
    "// Find activities without an activityType\n",
    "\n",
    "MATCH (a:activity)\n",
    "WHERE NOT EXISTS ((a)-[:HAS_TYPE]->(:activityType))\n",
    "RETURN a"
   ]
  },
  {
   "cell_type": "raw",
   "metadata": {
    "vscode": {
     "languageId": "raw"
    }
   },
   "source": [
    "// Delete HAS_TYPE relationships between activity and activityType nodes\n",
    "\n",
    "MATCH (a:activity)-[r:HAS_TYPE]->(at:activityType)\n",
    "DELETE r"
   ]
  },
  {
   "cell_type": "markdown",
   "metadata": {},
   "source": [
    "### (module)-[HAS_OWNING_DEPT]->(department)"
   ]
  },
  {
   "cell_type": "raw",
   "metadata": {
    "vscode": {
     "languageId": "raw"
    }
   },
   "source": [
    "// Create HAS_OWNING_DEPT relationship between module and department nodes\n",
    "\n",
    "// Match module and department nodes based on matching properties\n",
    "MATCH (m:module), (d:department)\n",
    "WHERE m.modDepartment = d.deptName\n",
    "\n",
    "// Create HAS_OWNING_DEPT relationship\n",
    "MERGE (m)-[:HAS_OWNING_DEPT]->(d)"
   ]
  },
  {
   "cell_type": "raw",
   "metadata": {
    "vscode": {
     "languageId": "raw"
    }
   },
   "source": [
    "// Delete HAS_OWNING_DEPT relationships between module and department nodes\n",
    "\n",
    "MATCH (m:module)-[r:HAS_OWNING_DEPT]->(d:department)\n",
    "DELETE r"
   ]
  },
  {
   "cell_type": "markdown",
   "metadata": {},
   "source": [
    "### (programme)-[HAS_OWNING_DEPT]->(department)"
   ]
  },
  {
   "cell_type": "raw",
   "metadata": {
    "vscode": {
     "languageId": "raw"
    }
   },
   "source": [
    "// Create HAS_OWNING_DEPT relationship between programme and department nodes\n",
    "\n",
    "// Match programme and department nodes based on matching properties\n",
    "MATCH (p:programme), (d:department)\n",
    "WHERE p.posDepartment = d.deptName\n",
    "\n",
    "// Create HAS_OWNING_DEPT relationship\n",
    "MERGE (p)-[:HAS_OWNING_DEPT]->(d)"
   ]
  },
  {
   "cell_type": "raw",
   "metadata": {
    "vscode": {
     "languageId": "raw"
    }
   },
   "source": [
    "// Delete HAS_OWNING_DEPT relationships between programme and department nodes\n",
    "\n",
    "MATCH (p:programme)-[r:HAS_OWNING_DEPT]->(d:department)\n",
    "DELETE r"
   ]
  },
  {
   "cell_type": "markdown",
   "metadata": {},
   "source": [
    "## Database queries"
   ]
  },
  {
   "cell_type": "markdown",
   "metadata": {},
   "source": [
    "### nodes without relationships"
   ]
  },
  {
   "cell_type": "raw",
   "metadata": {
    "vscode": {
     "languageId": "raw"
    }
   },
   "source": [
    "// Find node labels without relationships and their count\n",
    "\n",
    "MATCH (n)\n",
    "WHERE NOT EXISTS(()-[]-(n)) AND NOT EXISTS((n)-[]-())\n",
    "RETURN DISTINCT labels(n) AS nodeLabels, count(n) AS nodeCount\n"
   ]
  },
  {
   "cell_type": "raw",
   "metadata": {
    "vscode": {
     "languageId": "raw"
    }
   },
   "source": [
    "// Find nodes without relationships\n",
    "\n",
    "MATCH (n)\n",
    "WHERE NOT EXISTS(()-[]-(n)) AND NOT EXISTS((n)-[]-())\n",
    "RETURN n\n"
   ]
  },
  {
   "cell_type": "markdown",
   "metadata": {},
   "source": [
    "### property datatypes"
   ]
  },
  {
   "cell_type": "code",
   "execution_count": null,
   "metadata": {
    "vscode": {
     "languageId": "plaintext"
    }
   },
   "outputs": [],
   "source": [
    "/* return datatype of actStartTime on activity node */\n",
    "\n",
    "MATCH (a:activity)\n",
    "RETURN DISTINCT apoc.meta.cypher.type(a.actStartTime) as actStartTimeType"
   ]
  },
  {
   "cell_type": "markdown",
   "metadata": {},
   "source": [
    "### unique properties"
   ]
  },
  {
   "cell_type": "code",
   "execution_count": null,
   "metadata": {
    "vscode": {
     "languageId": "plaintext"
    }
   },
   "outputs": [],
   "source": [
    "// List unique properties for a Node\n",
    "\n",
    "MATCH (a:activity)\n",
    "UNWIND keys(a) AS propertyKey\n",
    "RETURN COLLECT(DISTINCT propertyKey) AS propertyKeys\n",
    "//RETURN DISTINCT propertyKey as propertyKeys"
   ]
  },
  {
   "cell_type": "markdown",
   "metadata": {},
   "source": [
    "### delete relationships"
   ]
  },
  {
   "cell_type": "code",
   "execution_count": null,
   "metadata": {
    "vscode": {
     "languageId": "plaintext"
    }
   },
   "outputs": [],
   "source": [
    "// Delete all relationships\n",
    "\n",
    "MATCH ()-[r]->()\n",
    "DELETE r"
   ]
  },
  {
   "cell_type": "markdown",
   "metadata": {},
   "source": [
    "### students witout activities"
   ]
  },
  {
   "cell_type": "code",
   "execution_count": null,
   "metadata": {
    "vscode": {
     "languageId": "plaintext"
    }
   },
   "outputs": [],
   "source": [
    "// Students without Activities\n",
    "MATCH (s:student)\n",
    "WHERE NOT (s)-[:ATTENDS]->()\n",
    "RETURN s"
   ]
  },
  {
   "cell_type": "markdown",
   "metadata": {},
   "source": [
    "### activities without rooms"
   ]
  },
  {
   "cell_type": "code",
   "execution_count": null,
   "metadata": {
    "vscode": {
     "languageId": "plaintext"
    }
   },
   "outputs": [],
   "source": [
    "// Activities without Rooms\n",
    "\n",
    "MATCH (at:activityType)\n",
    "WHERE NOT (at)<-[:HAS_TYPE]-()\n",
    "RETURN at;"
   ]
  },
  {
   "cell_type": "markdown",
   "metadata": {},
   "source": [
    "## Indexes\n",
    "\n",
    "* **Frequently Queried Properties**: Properties that you often use in WHERE clauses or for lookups.\n",
    "* **Properties Used in MATCH Clauses**: Properties involved in matching nodes for relationship creation or traversal.\n",
    "* **High-Cardinality Properties**: Properties with many distinct values benefit from indexing, as they help narrow down search results quickly."
   ]
  },
  {
   "cell_type": "code",
   "execution_count": null,
   "metadata": {
    "vscode": {
     "languageId": "plaintext"
    }
   },
   "outputs": [],
   "source": [
    "// Show indexes\n",
    "SHOW INDEXES;"
   ]
  },
  {
   "cell_type": "markdown",
   "metadata": {},
   "source": [
    "### Create Indexes"
   ]
  },
  {
   "cell_type": "raw",
   "metadata": {
    "vscode": {
     "languageId": "raw"
    }
   },
   "source": [
    "// General syntax\n",
    "CREATE INDEX FOR (n:NodeLabel) ON (n.propertyName)\n",
    "\n",
    "// Examples\n",
    "CREATE INDEX FOR (a:activity) ON (a.actStartDate);\n",
    "CREATE INDEX FOR (a:activity) ON (a.actStartTime);\n",
    "CREATE INDEX FOR (a:activity) ON (a.actEndTime);\n",
    "CREATE INDEX FOR (a:activity) ON (a.actModSplusID);\n",
    "CREATE INDEX FOR (a:activity) ON (a.id);\n",
    "// composite index for clashes\n",
    "CREATE INDEX activity_clash_index FOR (a:activity) ON (a.actStartDate, a.actStartTime, a.actEndTime);\n",
    "\n",
    "CREATE INDEX FOR (r:room) ON (r.roomName);\n",
    "CREATE INDEX FOR (r:room) ON (r.roomLatitude);\n",
    "CREATE INDEX FOR (r:room) ON (r.roomLongitude);\n",
    "\n",
    "CREATE SPATIAL INDEX room_location_index FOR (r:demoRoom) ON (r.location)\n",
    "CREATE SPATIAL INDEX demoroom_location_index FOR (r:room) ON (r.location)\n"
   ]
  },
  {
   "cell_type": "markdown",
   "metadata": {},
   "source": [
    "## Count queries"
   ]
  },
  {
   "cell_type": "markdown",
   "metadata": {},
   "source": [
    "### Node count - by label"
   ]
  },
  {
   "cell_type": "code",
   "execution_count": null,
   "metadata": {
    "vscode": {
     "languageId": "plaintext"
    }
   },
   "outputs": [],
   "source": [
    "// Count of nodes - row per node\n",
    "\n",
    "UNWIND [\"student\", \"staff\", \"room\", \"activity\"] AS label\n",
    "MATCH (n)\n",
    "WHERE label IN labels(n)\n",
    "RETURN label, count(n) AS count"
   ]
  },
  {
   "cell_type": "code",
   "execution_count": null,
   "metadata": {
    "vscode": {
     "languageId": "plaintext"
    }
   },
   "outputs": [],
   "source": [
    "// Count of nodes - single row\n",
    "\n",
    "MATCH (n:student)\n",
    "WITH count(n) AS studentCount\n",
    "MATCH (n:staff)\n",
    "WITH studentCount, count(n) AS lecturerCount\n",
    "MATCH (n:room)\n",
    "WITH studentCount, lecturerCount, count(n) AS roomCount\n",
    "MATCH (n:activity)\n",
    "RETURN studentCount, lecturerCount, roomCount, count(n) AS activityCount"
   ]
  },
  {
   "cell_type": "markdown",
   "metadata": {},
   "source": [
    "### Relationship count - by type"
   ]
  },
  {
   "cell_type": "code",
   "execution_count": null,
   "metadata": {
    "vscode": {
     "languageId": "plaintext"
    }
   },
   "outputs": [],
   "source": [
    "// Count of relationships\n",
    "\n",
    "MATCH ()-[r:ATTENDS]->()\n",
    "WITH count(r) AS attendsCount\n",
    "MATCH ()-[r:TEACHES]->()\n",
    "WITH attendsCount, count(r) AS teachesCount\n",
    "MATCH ()-[r:OCCUPIES]->()\n",
    "RETURN attendsCount, teachesCount, count(r) AS occupiesCount"
   ]
  },
  {
   "cell_type": "markdown",
   "metadata": {},
   "source": [
    "### Activity"
   ]
  },
  {
   "cell_type": "raw",
   "metadata": {
    "vscode": {
     "languageId": "raw"
    }
   },
   "source": [
    "// Count of activities\n",
    "\n",
    "MATCH (a:activity)\n",
    "RETURN count(a) AS totalActivities;"
   ]
  },
  {
   "cell_type": "markdown",
   "metadata": {},
   "source": [
    "### Activities on a day"
   ]
  },
  {
   "cell_type": "code",
   "execution_count": null,
   "metadata": {
    "vscode": {
     "languageId": "plaintext"
    }
   },
   "outputs": [],
   "source": [
    "// Count of activities on a day\n",
    "\n",
    "MATCH (a:activity)\n",
    "WHERE a.actDayName = \"Wednesday\"\n",
    "RETURN DISTINCT count(a) AS wednesdayActivities"
   ]
  },
  {
   "cell_type": "markdown",
   "metadata": {},
   "source": [
    "### Activities per day"
   ]
  },
  {
   "cell_type": "code",
   "execution_count": null,
   "metadata": {
    "vscode": {
     "languageId": "plaintext"
    }
   },
   "outputs": [],
   "source": [
    "// Count of activities per day\n",
    "\n",
    "MATCH (a:activity)\n",
    "RETURN DISTINCT a.actDayName AS dayName, count(a) AS activityCount"
   ]
  },
  {
   "cell_type": "markdown",
   "metadata": {},
   "source": [
    "### Staff activity"
   ]
  },
  {
   "cell_type": "code",
   "execution_count": null,
   "metadata": {
    "vscode": {
     "languageId": "plaintext"
    }
   },
   "outputs": [],
   "source": [
    "// Staff activity count\n",
    "\n",
    "MATCH (st:staff)-[r:TEACHES]->(a:activity)\n",
    "RETURN st.staffFullName_anon AS staffName, count(a) AS activityCount\n",
    "ORDER BY activityCount DESC"
   ]
  },
  {
   "cell_type": "markdown",
   "metadata": {},
   "source": [
    "### Activity for a start time"
   ]
  },
  {
   "cell_type": "code",
   "execution_count": null,
   "metadata": {
    "vscode": {
     "languageId": "plaintext"
    }
   },
   "outputs": [],
   "source": [
    "// Activity count by time (start)\n",
    "\n",
    "MATCH (a:activity)\n",
    "WHERE a.actStartTime = localtime(\"17:00:00\")\n",
    "//AND a.actDayName = \"Wednesday\"\n",
    "RETURN count(a) AS activitiesStartingAt5pm"
   ]
  },
  {
   "cell_type": "markdown",
   "metadata": {},
   "source": [
    "## Hard Constraints\n",
    "\n",
    "Hard constraints are generally rules or conditions which cannot be violated.  Violation would indicate non-viable timetable, e.g. a lecturer being scheduled to teach in two places simultaneously.\n",
    "\n",
    "In reality, hard constraints appear in timetables and are accepted with real-world workarounds."
   ]
  },
  {
   "cell_type": "markdown",
   "metadata": {
    "vscode": {
     "languageId": "plaintext"
    }
   },
   "source": [
    "* **All Activities Scheduled**: Every lecture, tutorial, lab, etc., must have a designated time and place.\n",
    "* **No Room Conflicts (aka room clash)**: Two activities cannot be scheduled in the same room at the same time.\n",
    "* **No Staff Conflicts (aka staff clash)**: A staff member cannot be assigned to two activities or more occurring at the same datetime.\n",
    "* **No Student Conflicts (aka student clash)**: A student cannot be allocated to two or more activities which are scheduled at the same datetime.\n",
    "* **Staff Availability Respected**: Activities cannot be scheduled during a staff member's unavailable times (e.g., research days, meetings, unavailability pattern).\n",
    "* **Room Capacity Sufficient**: The room assigned to an activity must accommodate the expected number of students\n",
    "* **Curriculum Requirements Met**: Required courses must be offered at times when students can take them"
   ]
  },
  {
   "cell_type": "markdown",
   "metadata": {},
   "source": [
    "### Unscheduled activities\n",
    "\n",
    "* No start time, start date, end date\n",
    "* Could be changed to use 'isSheduled' property"
   ]
  },
  {
   "cell_type": "code",
   "execution_count": null,
   "metadata": {
    "vscode": {
     "languageId": "plaintext"
    }
   },
   "outputs": [],
   "source": [
    "/**\n",
    " * This Cypher query retrieves all activities that have missing start date, start time, or end time.\n",
    " * It matches nodes with the label \"activity\" and checks if the properties \"actStartDate\", \"actStartTime\", or \"actEndTime\" are null.\n",
    " * If any of these properties is null, the node is returned.\n",
    " * \n",
    " * @returns {Node} The activities with missing start date, start time, or end time.\n",
    "\n",
    "\n",
    "\n",
    "\n",
    "MATCH (a:activity)\n",
    "WHERE a.actStartDate IS NULL \n",
    "OR a.actStartTime IS NULL \n",
    "OR a.actEndTime IS NULL\n",
    "RETURN a"
   ]
  },
  {
   "cell_type": "markdown",
   "metadata": {},
   "source": [
    "### Room clashes"
   ]
  },
  {
   "cell_type": "code",
   "execution_count": null,
   "metadata": {
    "vscode": {
     "languageId": "plaintext"
    }
   },
   "outputs": [],
   "source": [
    "/**\n",
    " * This Cypher query matches activities (a1 and a2) located in the same room (r) and occurring on the same date.\n",
    " * It filters out activities that are the same (a1 <> a2) and checks for overlapping time intervals.\n",
    " * The query returns the matched activities (a1 and a2) along with the room (r) they are located in.\n",
    "\n",
    " * Needs to be tweaked (or data changed) to handle jointly-taught or variant activities.  Use case for graph structure TBC.\n",
    " */\n",
    " \n",
    "MATCH (a1:activity)-[r1:OCCUPIES]->(r:room)<-[r2:OCCUPIES]-(a2:activity)\n",
    "WHERE a1.actStartDate = a2.actStartDate AND a1 <> a2\n",
    "    AND (\n",
    "        (a1.actStartTime <= a2.actStartTime AND a1.actEndTime > a2.actStartTime)\n",
    "        OR \n",
    "        (a2.actStartTime <= a1.actStartTime AND a2.actEndTime > a1.actStartTime)\n",
    "    )\n",
    "RETURN a1, a2, r, r1, r2"
   ]
  },
  {
   "cell_type": "markdown",
   "metadata": {},
   "source": [
    "#### Room clash example - room with known clashes"
   ]
  },
  {
   "cell_type": "code",
   "execution_count": null,
   "metadata": {
    "vscode": {
     "languageId": "plaintext"
    }
   },
   "outputs": [],
   "source": [
    "// Find clashes (overlapping activities) within specific rooms - EXAMPLE\n",
    "\n",
    "MATCH (a1:activity)-[r1:OCCUPIES]->(r:room)<-[r2:OCCUPIES]-(a2:activity)\n",
    "WHERE r.roomName IN [\"4Q50/51 FR\", \"4Q69 FR\", \"3E Maths Open Zone A\", \"3E12 FR\"] \n",
    "  AND a1.actStartDate = a2.actStartDate \n",
    "  AND a1 <> a2\n",
    "  AND (\n",
    "        (a1.actStartTime <= a2.actStartTime AND a1.actEndTime > a2.actStartTime)\n",
    "        OR \n",
    "        (a2.actStartTime <= a1.actStartTime AND a2.actEndTime > a1.actStartTime)\n",
    "      )\n",
    "RETURN a1, a2, r, r1, r2"
   ]
  },
  {
   "cell_type": "markdown",
   "metadata": {},
   "source": [
    "#### Room clash with demo data"
   ]
  },
  {
   "cell_type": "code",
   "execution_count": null,
   "metadata": {
    "vscode": {
     "languageId": "plaintext"
    }
   },
   "outputs": [],
   "source": [
    "// to prove room clash query - load below\n",
    "// 2x rooms, 5x activities, 2x clashes\n",
    "\n",
    "CREATE \n",
    "  (room1:Room {name: \"Room A\"}),\n",
    "  (room2:Room {name: \"Room B\"}),\n",
    "  (a1:Activity {name: \"Graph Lecture\", Date: date(\"2024-06-17\"), StartTime: \"10:00\", EndTime: \"11:30\"}),\n",
    "  (a2:Activity {name: \"Networks Lab\", Date: date(\"2024-06-17\"), StartTime: \"11:00\", EndTime: \"13:00\"}),\n",
    "  (a3:Activity {name: \"Data Science Tutorial\", Date: date(\"2024-06-18\"), StartTime: \"09:00\", EndTime: \"10:30\"}),\n",
    "  (a4:Activity {name: \"Graph Seminar\", Date: date(\"2024-06-18\"), StartTime: \"10:00\", EndTime: \"12:00\"}),\n",
    "  (a5:Activity {name: \"Computer Science Workshop\", Date: date(\"2024-06-17\"), StartTime: \"14:00\", EndTime: \"16:00\"}),\n",
    "  (a1)-[:LOCATED_IN]->(room1),\n",
    "  (a2)-[:LOCATED_IN]->(room1), \n",
    "  (a3)-[:LOCATED_IN]->(room2),\n",
    "  (a4)-[:LOCATED_IN]->(room2),\n",
    "  (a5)-[:LOCATED_IN]->(room1) \n"
   ]
  },
  {
   "cell_type": "code",
   "execution_count": null,
   "metadata": {
    "vscode": {
     "languageId": "plaintext"
    }
   },
   "outputs": [],
   "source": [
    "\n",
    "// delete activities\n",
    "\n",
    "MATCH (a:Activity)\n",
    "WHERE a.name IN [\"Graph Lecture\", \"Networks Lab\", \"Data Science Tutorial\", \"Graph Seminar\", \"Computer Science Workshop\"]\n",
    "DETACH DELETE a\n"
   ]
  },
  {
   "cell_type": "code",
   "execution_count": null,
   "metadata": {
    "vscode": {
     "languageId": "plaintext"
    }
   },
   "outputs": [],
   "source": [
    "\n",
    "// delete rooms\n",
    "\n",
    "MATCH (r:Room)\n",
    "WHERE r.name IN [\"Room A\", \"Room B\"]\n",
    "DELETE r"
   ]
  },
  {
   "cell_type": "markdown",
   "metadata": {},
   "source": [
    "### Room Capacity violation"
   ]
  },
  {
   "cell_type": "code",
   "execution_count": null,
   "metadata": {
    "vscode": {
     "languageId": "plaintext"
    }
   },
   "outputs": [],
   "source": [
    "// Room capacity violation\n",
    "\n",
    "/**\n",
    " * This Cypher query retrieves rooms, activities, and the number of students attending each activity.\n",
    " * It then filters the results to only include rooms that have more students attending than their capacity.\n",
    " * The query returns the room, activity date, activity name, room capacity, and the number of extra students needed to fill the room.\n",
    " *\n",
    " * @returns {Object[]} An array of objects containing the following properties:\n",
    " *   - r: The room node\n",
    " *   - a.Date: The date of the activity\n",
    " *   - Activity: The name of the activity\n",
    " *   - roomCapacity: The capacity of the room\n",
    " *   - extraNeeded: The number of extra students needed to fill the room\n",
    " */\n",
    "\n",
    "MATCH (r:room)<-[r1:OCCUPIES]-(a:activity)<-[:ATTENDS]-(s:student)\n",
    "//WHERE a.Date >= date(\"2022-01-01\") AND a.Date <= date(\"2022-06-30\") \n",
    "WITH r, a, count(s) as numStudents\n",
    "WHERE numStudents > r.roomCapacity\n",
    "RETURN r, a.actStartDate, a.actName AS Activity, r.roomCapacity, numStudents - r.roomCapacity AS extraNeeded\n",
    "ORDER BY extraNeeded DESC"
   ]
  },
  {
   "cell_type": "markdown",
   "metadata": {},
   "source": [
    "### student clashes\n",
    "\n",
    "\n",
    "\n"
   ]
  },
  {
   "cell_type": "code",
   "execution_count": null,
   "metadata": {
    "vscode": {
     "languageId": "plaintext"
    }
   },
   "outputs": [],
   "source": [
    "MATCH (s:student)-[:ATTENDS]->(a1:activity)\n",
    "WITH s, a1\n",
    "MATCH (s)-[:ATTENDS]->(a2:activity) \n",
    "WHERE a1 <> a2 \n",
    "  AND a1.actStartDate = a2.actStartDate \n",
    "  AND (a1.actStartTime < a2.actEndTime AND a1.actEndTime > a2.actStartTime)  // Correct overlap condition\n",
    "  AND NOT (a1.actStartTime = a2.actEndTime OR a1.actEndTime = a2.actStartTime) // Exclude \"touching\" cases\n",
    "RETURN s.stuFirstName_anon AS Student, \n",
    "       a1.actStartDate AS ClashDate, \n",
    "       a1.actName AS Activity1, \n",
    "       a1.actStartTime + \"-\" + a1.actEndTime AS Timeslot1, \n",
    "       a2.actName AS Activity2, \n",
    "       a2.actStartTime + \"-\" + a2.actEndTime AS Timeslot2\n",
    "ORDER BY Student, ClashDate;\n",
    "\n"
   ]
  },
  {
   "cell_type": "markdown",
   "metadata": {},
   "source": [
    "## Soft constraints\n",
    "\n",
    "Soft constraints can be considered to be (strong) preferences.  They should be generally met and only violated when absolutely necessary.  For example, a member of staff may be unavailable on Fridays, generally, but they are scheduled to teach on one Friday by prior arrangement.  Other examples might include ensuring that students have an opportunity to eat lunch or minimising travel between distant locations. "
   ]
  },
  {
   "cell_type": "markdown",
   "metadata": {},
   "source": [
    "* **Minimal Idle Time (aka no large gaps):** Minimise gaps in staff and student schedules (within reason).\n",
    "* **Spread Activities (aka maximum consecutive hours):** Avoid clumping all activities for a student or staff member on one day.\n",
    "* **Preferred Times:** Consider staff and student preferences for morning, afternoon, or evening classes\n",
    "* **Travel Time:** Minimise the time students need to travel between consecutive classes (especially on large campuses), e.g. between building blocks or by lat/long\n",
    "* **Lunch Breaks:** Ensure students have sufficient time for lunch breaks.\n",
    "* **Consistent Days/Times:** Try to schedule recurring activities (e.g., weekly lectures) on the same day and time."
   ]
  },
  {
   "cell_type": "code",
   "execution_count": null,
   "metadata": {
    "vscode": {
     "languageId": "plaintext"
    }
   },
   "outputs": [],
   "source": [
    "// students with gaps between activities\n",
    "\n",
    "MATCH (s:student)-[:ATTENDS]->(a:activity)\n",
    "WITH s, a\n",
    "ORDER BY s.stuFirstName_anon, a.actStartDate, a.actStartTime\n",
    "\n",
    "// Group activities by student and date\n",
    "WITH s, a.actStartDate AS date, collect({start: a.actStartTime, end: a.actEndTime, activity: a}) AS times\n",
    "\n",
    "// Calculating the gaps in hours between consecutive activities\n",
    "WITH s, date, times, \n",
    "     [i IN range(0, size(times)-2) | \n",
    "      {gap: duration.between(times[i].end, times[i+1].start).minutes / 60.0, \n",
    "       firstActivity: times[i].activity, \n",
    "       secondActivity: times[i+1].activity}] AS gaps\n",
    "\n",
    "// Filtering gaps based on a threshold of 3 hours\n",
    "WITH s, date, gaps\n",
    "WHERE any(gapRecord IN gaps WHERE gapRecord.gap > 6.0)\n",
    "\n",
    "// Finding the maximum gap that exceeds the threshold\n",
    "WITH s, date, reduce(maxGap = {gap: 0.0, firstActivity: null, secondActivity: null}, gapRecord IN gaps | \n",
    "    CASE WHEN gapRecord.gap > maxGap.gap THEN gapRecord ELSE maxGap END) AS maxGapRecord\n",
    "\n",
    "// Returning the result\n",
    "RETURN s.stuID_anon AS student, \n",
    "       date AS activityDate,\n",
    "       maxGapRecord.firstActivity AS activity1, \n",
    "       maxGapRecord.secondActivity AS activity2,\n",
    "       maxGapRecord.gap AS maxGapInHours\n",
    "ORDER BY s.stuFirstName_anon\n"
   ]
  },
  {
   "cell_type": "code",
   "execution_count": null,
   "metadata": {
    "vscode": {
     "languageId": "plaintext"
    }
   },
   "outputs": [],
   "source": [
    "MATCH (s:student)-[:ATTENDS]->(a:activity)\n",
    "WHERE s.stuID_anon = \"stu-10085720\"\n",
    "AND a.actStartDate = date(\"2022-10-03\")\n",
    "WITH s, a\n",
    "ORDER BY a.actStartTime\n",
    "\n",
    "// Collecting the start and end times of the activities\n",
    "WITH s, collect({start: a.actStartTime, end: a.actEndTime}) AS times\n",
    "\n",
    "// Calculating the gaps in minutes between consecutive activities\n",
    "WITH s, times, \n",
    "     [i IN range(0, size(times)-2) | \n",
    "      duration.between(times[i].end, times[i+1].start).minutes / 60.0] AS gaps\n",
    "\n",
    "// Finding the maximum gap\n",
    "RETURN s.stuID_anon AS student, times, gaps, reduce(maxGap = 0.0, gap IN gaps | CASE WHEN gap > maxGap THEN gap ELSE maxGap END) AS maxGap"
   ]
  },
  {
   "cell_type": "markdown",
   "metadata": {},
   "source": [
    "How this could be used - pre-calculate and store as a property on the student, or as a separate node."
   ]
  },
  {
   "cell_type": "code",
   "execution_count": null,
   "metadata": {
    "vscode": {
     "languageId": "plaintext"
    }
   },
   "outputs": [],
   "source": [
    "// Calculates - total hours, max block hours, max block activities per day \n",
    "// to be used for max block hours and max block activities per day\n",
    "// logic - example\n",
    "\n",
    "MATCH (s:student {stuID_anon:\"stu-10085720\"})-[:ATTENDS]->(a:activity)\n",
    "WITH s, a ORDER BY a.actStartDate, a.actStartTime\n",
    "WITH s, a.actStartDate AS Date, \n",
    "     SUM(a.actDurationInMinutes) / 60.0 AS totalHours,\n",
    "     REDUCE(\n",
    "        blockInfo = [],\n",
    "        activity IN COLLECT(a)\n",
    "        | CASE\n",
    "            WHEN blockInfo = [] THEN [[activity]]\n",
    "            ELSE CASE\n",
    "                   WHEN head(last(blockInfo)).actEndTime >= activity.actStartTime\n",
    "                     THEN blockInfo[..-1] + [last(blockInfo) + activity]\n",
    "                   ELSE blockInfo + [[activity]]\n",
    "                 END\n",
    "          END\n",
    "     ) AS blocks\n",
    "UNWIND blocks AS block\n",
    "WITH s, Date, totalHours, blocks,\n",
    "     REDUCE(blockHours = 0.0, activity IN block | blockHours + activity.actDurationInMinutes) / 60.0 AS blockHours,\n",
    "     SIZE(block) AS blockActivities\n",
    "RETURN s.stuFullName_anon AS Student, Date, totalHours, \n",
    "       MAX(blockHours) AS blockHours,\n",
    "       MAX(blockActivities) AS blockActivities\n",
    "ORDER BY Date;"
   ]
  },
  {
   "cell_type": "markdown",
   "metadata": {},
   "source": [
    "Explanation:\n",
    "\n",
    "1. Match and Sort Activities:\n",
    "\n",
    "* MATCH (s:student {stuID_anon:\"stu-10085720\"})-[:ATTENDS]->(a:activity): Matches the specified student and all their attended activities.\n",
    "* WITH s, a ORDER BY a.actStartDate, a.actStartTime: Sorts the activities by their start date and then by their start time within each date.\n",
    "\n",
    "2. Calculate Total Hours and Group Activities into Blocks:\n",
    "\n",
    "* WITH s, a.actStartDate AS Date, SUM(a.actDurationInMinutes) / 60.0 AS totalHours, ...: Calculates the total hours spent on activities for each date by summing the durations of all activities on that date and converting minutes to hours.\n",
    "* REDUCE(blockInfo = [], activity IN COLLECT(a) | ...): Groups activities into blocks based on time overlaps using a REDUCE function and a CASE expression.\n",
    "  * It initialises an empty list blockInfo to store the blocks.\n",
    "  * It iterates over the collected activities (COLLECT(a)).\n",
    "  * For each activity:\n",
    "    * If blockInfo is empty (first activity), it creates a new block with the activity.\n",
    "    * Otherwise, it checks if the current activity overlaps with the last activity in the last block of blockInfo.\n",
    "      * If there's an overlap, it adds the current activity to the last block.\n",
    "      * If there's no overlap, it creates a new block with the current activity.\n",
    "\n",
    "3. Calculate Block Hours and Number of Activities:\n",
    "\n",
    "* UNWIND blocks AS block: Unwinds the list of blocks, processing each block individually.\n",
    "* WITH s, Date, totalHours, blocks, REDUCE(blockHours = 0.0, activity IN block | blockHours + activity.actDurationInMinutes) / 60.0 AS blockHours, SIZE(block) AS blockActivities: For each block, it calculates the total duration in hours (blockHours) by summing the durations of activities within the block and converting minutes to hours. It also calculates the number of activities in the block (blockActivities).\n",
    "\n",
    "4. Return Aggregated Results:\n",
    "\n",
    "* RETURN s.stuFullName_anon AS Student, Date, totalHours, MAX(blockHours) AS blockHours, MAX(blockActivities) AS blockActivities ORDER BY Date;: Returns the student's full name, the date, the total hours for the day, the maximum block hours across all blocks for that day, and the maximum number of activities within a single block for that day. The results are ordered by date."
   ]
  },
  {
   "cell_type": "code",
   "execution_count": null,
   "metadata": {
    "vscode": {
     "languageId": "plaintext"
    }
   },
   "outputs": [],
   "source": [
    "MATCH (s:student)-[:ATTENDS]->(a:activity)<-[:TEACHES]-(:staff) // Filter for teaching activities\n",
    "WITH s, a ORDER BY a.actStartDate, a.actStartTime\n",
    "WITH s, a.actStartDate AS Date, \n",
    "     SUM(a.actDurationInMinutes) / 60.0 AS totalHours,\n",
    "     REDUCE(\n",
    "         blockInfo = [],\n",
    "         activity IN COLLECT(a)\n",
    "         | CASE\n",
    "             WHEN blockInfo = [] THEN [[activity]]\n",
    "             ELSE CASE\n",
    "                     WHEN head(last(blockInfo)).actEndTime >= activity.actStartTime\n",
    "                         THEN blockInfo[..-1] + [last(blockInfo) + activity]\n",
    "                     ELSE blockInfo + [[activity]]\n",
    "                 END\n",
    "         END\n",
    "     ) AS blocks\n",
    "UNWIND blocks AS block\n",
    "WITH s, Date, totalHours, blocks,\n",
    "     REDUCE(blockHours = 0.0, activity IN block | blockHours + activity.actDurationInMinutes) / 60.0 AS blockHours,\n",
    "     SIZE(block) AS blockActivities\n",
    "WHERE blockHours > 5 // Filter for blocks with more than 5 hours\n",
    "RETURN s.stuFullName_anon AS Student, Date, totalHours, \n",
    "       blockHours,\n",
    "       blockActivities\n",
    "ORDER BY Date;\n"
   ]
  },
  {
   "cell_type": "code",
   "execution_count": null,
   "metadata": {
    "vscode": {
     "languageId": "plaintext"
    }
   },
   "outputs": [],
   "source": [
    "how this could be used - precalculate and add to student-date relationship"
   ]
  },
  {
   "cell_type": "markdown",
   "metadata": {},
   "source": [
    "### total hours per day "
   ]
  },
  {
   "cell_type": "code",
   "execution_count": null,
   "metadata": {
    "vscode": {
     "languageId": "plaintext"
    }
   },
   "outputs": [],
   "source": [
    "MATCH (s:student )-[:ATTENDS]->(a:activity)\n",
    "WITH s, a.actStartDate AS Date, SUM(a.actDurationInMinutes) / 60.0 AS totalHours\n",
    "RETURN s.stuFullName_anon AS Student, Date, totalHours\n",
    "ORDER BY Date;"
   ]
  },
  {
   "cell_type": "markdown",
   "metadata": {},
   "source": [
    "### longest consecutive block per day"
   ]
  },
  {
   "cell_type": "code",
   "execution_count": null,
   "metadata": {
    "vscode": {
     "languageId": "plaintext"
    }
   },
   "outputs": [],
   "source": [
    "MATCH (s:student {stuFullName_anon: \"Susan Lopez\"})-[:ATTENDS]->(a:activity {actStartDate: date(\"2022-09-27\")})\n",
    "WITH s, a \n",
    "ORDER BY a.actStartTime\n",
    "WITH s, COLLECT(a) AS activities\n",
    "WITH s, activities,\n",
    "     REDUCE(\n",
    "       state = {currentBlock: {duration: 0, start: null, end: null}, longestBlock: {duration: 0, start: null, end: null}},\n",
    "       activity IN activities |\n",
    "         CASE\n",
    "           WHEN state.currentBlock.end IS NULL OR \n",
    "                activity.actStartTime > state.currentBlock.end\n",
    "           THEN {\n",
    "             currentBlock: {\n",
    "               duration: activity.actDurationInMinutes,\n",
    "               start: activity.actStartTime,\n",
    "               end: activity.actEndTime\n",
    "             },\n",
    "             longestBlock: \n",
    "               CASE\n",
    "                 WHEN activity.actDurationInMinutes > state.longestBlock.duration\n",
    "                 THEN {\n",
    "                   duration: activity.actDurationInMinutes,\n",
    "                   start: activity.actStartTime,\n",
    "                   end: activity.actEndTime\n",
    "                 }\n",
    "                 ELSE state.longestBlock\n",
    "               END\n",
    "           }\n",
    "           ELSE {\n",
    "             currentBlock: {\n",
    "               duration: (activity.actEndTime.hour * 60 + activity.actEndTime.minute) - \n",
    "                         (state.currentBlock.start.hour * 60 + state.currentBlock.start.minute),\n",
    "               start: state.currentBlock.start,\n",
    "               end: activity.actEndTime\n",
    "             },\n",
    "             longestBlock: \n",
    "               CASE\n",
    "                 WHEN ((activity.actEndTime.hour * 60 + activity.actEndTime.minute) - \n",
    "                       (state.currentBlock.start.hour * 60 + state.currentBlock.start.minute)) > state.longestBlock.duration\n",
    "                 THEN {\n",
    "                   duration: (activity.actEndTime.hour * 60 + activity.actEndTime.minute) - \n",
    "                             (state.currentBlock.start.hour * 60 + state.currentBlock.start.minute),\n",
    "                   start: state.currentBlock.start,\n",
    "                   end: activity.actEndTime\n",
    "                 }\n",
    "                 ELSE state.longestBlock\n",
    "               END\n",
    "           }\n",
    "         END\n",
    "     ) AS finalState\n",
    "RETURN\n",
    "  s.stuFullName_anon AS stuName,\n",
    "  activities[0].actStartDate AS date,\n",
    "  finalState.longestBlock.duration AS longestConsecutiveBlockDuration,\n",
    "  finalState.longestBlock.start AS blockStartTime,\n",
    "  finalState.longestBlock.end AS blockEndTime"
   ]
  },
  {
   "cell_type": "code",
   "execution_count": null,
   "metadata": {
    "vscode": {
     "languageId": "plaintext"
    }
   },
   "outputs": [],
   "source": [
    "// example student\n",
    "\n",
    "MATCH (s:student {stuFullName_anon: \"Susan Lopez\"})-[:ATTENDS]->(a:activity {actStartDate: date(\"2022-09-27\")})\n",
    "WITH s, a \n",
    "ORDER BY a.actStartTime\n",
    "WITH s, COLLECT(a) AS activities\n",
    "WITH s, activities,\n",
    "     REDUCE(\n",
    "       state = {currentBlock: {duration: 0, start: null, end: null}, longestBlock: {duration: 0, start: null, end: null}},\n",
    "       activity IN activities |\n",
    "         CASE\n",
    "           WHEN state.currentBlock.end IS NULL OR \n",
    "                activity.actStartTime > state.currentBlock.end\n",
    "           THEN {\n",
    "             currentBlock: {\n",
    "               duration: activity.actDurationInMinutes,\n",
    "               start: activity.actStartTime,\n",
    "               end: activity.actEndTime\n",
    "             },\n",
    "             longestBlock: \n",
    "               CASE\n",
    "                 WHEN activity.actDurationInMinutes > state.longestBlock.duration\n",
    "                 THEN {\n",
    "                   duration: activity.actDurationInMinutes,\n",
    "                   start: activity.actStartTime,\n",
    "                   end: activity.actEndTime\n",
    "                 }\n",
    "                 ELSE state.longestBlock\n",
    "               END\n",
    "           }\n",
    "           ELSE {\n",
    "             currentBlock: {\n",
    "               duration: (activity.actEndTime.hour * 60 + activity.actEndTime.minute) - \n",
    "                         (state.currentBlock.start.hour * 60 + state.currentBlock.start.minute),\n",
    "               start: state.currentBlock.start,\n",
    "               end: activity.actEndTime\n",
    "             },\n",
    "             longestBlock: \n",
    "               CASE\n",
    "                 WHEN ((activity.actEndTime.hour * 60 + activity.actEndTime.minute) - \n",
    "                       (state.currentBlock.start.hour * 60 + state.currentBlock.start.minute)) > state.longestBlock.duration\n",
    "                 THEN {\n",
    "                   duration: (activity.actEndTime.hour * 60 + activity.actEndTime.minute) - \n",
    "                             (state.currentBlock.start.hour * 60 + state.currentBlock.start.minute),\n",
    "                   start: state.currentBlock.start,\n",
    "                   end: activity.actEndTime\n",
    "                 }\n",
    "                 ELSE state.longestBlock\n",
    "               END\n",
    "           }\n",
    "         END\n",
    "     ) AS finalState\n",
    "RETURN\n",
    "  s.stuFullName_anon AS stuName,\n",
    "  activities[0].actStartDate AS date,\n",
    "  finalState.longestBlock.duration AS longestConsecutiveBlockDuration,\n",
    "  finalState.longestBlock.start AS blockStartTime,\n",
    "  finalState.longestBlock.end AS blockEndTime"
   ]
  },
  {
   "cell_type": "markdown",
   "metadata": {},
   "source": [
    "### max hours per day"
   ]
  },
  {
   "cell_type": "code",
   "execution_count": null,
   "metadata": {
    "vscode": {
     "languageId": "plaintext"
    }
   },
   "outputs": [],
   "source": [
    "// sum of activity durations\n",
    "// does not account for simultaneous activities (clashes) - so could be inflated, e.g. 12.5 hour students\n",
    "\n",
    "MATCH (s:student)-[:ATTENDS]->(a:activity)\n",
    "WITH s, a.actStartDate AS Date, SUM(a.actDurationInMinutes) / 60.0 AS totalHours\n",
    "WHERE totalHours > 7 // Set  maximum here\n",
    "RETURN s.stuFullName_anon AS Student, Date, totalHours\n",
    "ORDER BY Date;"
   ]
  },
  {
   "cell_type": "markdown",
   "metadata": {},
   "source": [
    "### max consecutive hours per day\n",
    "\n"
   ]
  },
  {
   "cell_type": "code",
   "execution_count": null,
   "metadata": {
    "vscode": {
     "languageId": "plaintext"
    }
   },
   "outputs": [],
   "source": [
    "// example student\n",
    "\n",
    "MATCH (s:student {stuFullName_anon: \"Susan Lopez\"})-[:ATTENDS]->(a:activity {actStartDate: date(\"2022-09-27\")})\n",
    "WITH s, a \n",
    "ORDER BY a.actStartTime\n",
    "WITH s, COLLECT(a) AS activities\n",
    "WITH s, activities,\n",
    "     REDUCE(\n",
    "       state = {currentBlock: {duration: 0, start: null, end: null}, longestBlock: {duration: 0, start: null, end: null}},\n",
    "       activity IN activities |\n",
    "         CASE\n",
    "           WHEN state.currentBlock.end IS NULL OR \n",
    "                activity.actStartTime > state.currentBlock.end\n",
    "           THEN {\n",
    "             currentBlock: {\n",
    "               duration: activity.actDurationInMinutes,\n",
    "               start: activity.actStartTime,\n",
    "               end: activity.actEndTime\n",
    "             },\n",
    "             longestBlock: \n",
    "               CASE\n",
    "                 WHEN activity.actDurationInMinutes > state.longestBlock.duration\n",
    "                 THEN {\n",
    "                   duration: activity.actDurationInMinutes,\n",
    "                   start: activity.actStartTime,\n",
    "                   end: activity.actEndTime\n",
    "                 }\n",
    "                 ELSE state.longestBlock\n",
    "               END\n",
    "           }\n",
    "           ELSE {\n",
    "             currentBlock: {\n",
    "               duration: (activity.actEndTime.hour * 60 + activity.actEndTime.minute) - \n",
    "                         (state.currentBlock.start.hour * 60 + state.currentBlock.start.minute),\n",
    "               start: state.currentBlock.start,\n",
    "               end: activity.actEndTime\n",
    "             },\n",
    "             longestBlock: \n",
    "               CASE\n",
    "                 WHEN ((activity.actEndTime.hour * 60 + activity.actEndTime.minute) - \n",
    "                       (state.currentBlock.start.hour * 60 + state.currentBlock.start.minute)) > state.longestBlock.duration\n",
    "                 THEN {\n",
    "                   duration: (activity.actEndTime.hour * 60 + activity.actEndTime.minute) - \n",
    "                             (state.currentBlock.start.hour * 60 + state.currentBlock.start.minute),\n",
    "                   start: state.currentBlock.start,\n",
    "                   end: activity.actEndTime\n",
    "                 }\n",
    "                 ELSE state.longestBlock\n",
    "               END\n",
    "           }\n",
    "         END\n",
    "     ) AS finalState\n",
    "WHERE finalState.longestBlock.duration > 270 // Filter for blocks with more than 4.5 hours\n",
    "RETURN\n",
    "  s.stuFullName_anon AS stuName,\n",
    "  activities[0].actStartDate AS date,\n",
    "  finalState.longestBlock.duration AS longestConsecutiveBlockDuration,\n",
    "  finalState.longestBlock.start AS blockStartTime,\n",
    "  finalState.longestBlock.end AS blockEndTime"
   ]
  },
  {
   "cell_type": "markdown",
   "metadata": {},
   "source": [
    "### Lunch break"
   ]
  },
  {
   "cell_type": "code",
   "execution_count": null,
   "metadata": {
    "vscode": {
     "languageId": "plaintext"
    }
   },
   "outputs": [],
   "source": [
    "MATCH (s:student)-[:ATTENDS]->(a:activity)\n",
    "WITH s, a\n",
    "ORDER BY a.actStartDate, a.actStartTime\n",
    "WITH s, COLLECT(a) AS activities\n",
    "UNWIND activities AS activity\n",
    "WITH s.stuFullName_anon AS Student, activity.actStartDate AS Date, time(activity.actStartTime) AS StartTime, time(activity.actEndTime) AS EndTime, duration.between(time('12:00'), time('14:00')).minutes AS BreakWindow_12_14\n",
    "WITH Student, Date, BreakWindow_12_14, COLLECT([StartTime, EndTime]) AS Activities\n",
    "UNWIND Activities AS activity\n",
    "WITH Student, Date, BreakWindow_12_14, activity[0] AS StartTime, activity[1] AS EndTime\n",
    "WITH Student, Date, BreakWindow_12_14,\n",
    "     CASE\n",
    "       WHEN StartTime >= time('14:00') OR EndTime <= time('12:00') THEN 0\n",
    "       WHEN StartTime < time('12:00') AND EndTime > time('14:00') THEN BreakWindow_12_14\n",
    "       WHEN StartTime >= time('12:00') AND StartTime < time('14:00') THEN duration.between(StartTime, time('14:00')).minutes\n",
    "       WHEN EndTime > time('12:00') AND EndTime <= time('14:00') THEN duration.between(time('12:00'), EndTime).minutes\n",
    "     END AS BookedDurationMinutes\n",
    "RETURN Student, Date, BreakWindow_12_14, BreakWindow_12_14 - SUM(BookedDurationMinutes) AS FreeTimeMinutes, SUM(BookedDurationMinutes) AS BookedTimeMinutes\n",
    "ORDER BY Date"
   ]
  },
  {
   "cell_type": "code",
   "execution_count": null,
   "metadata": {
    "vscode": {
     "languageId": "plaintext"
    }
   },
   "outputs": [],
   "source": [
    "// example - 12:00-14:00\n",
    "\n",
    "MATCH (s:student {stuFullName_anon: \"Susan Lopez\"})-[:ATTENDS]->(a:activity{actStartDate:date(\"2022-09-27\")})\n",
    "WITH s, a\n",
    "ORDER BY a.actStartDate, a.actStartTime\n",
    "WITH s, COLLECT(a) AS activities\n",
    "UNWIND activities AS activity\n",
    "WITH s.stuFullName_anon AS Student, activity.actStartDate AS Date, time(activity.actStartTime) AS StartTime, time(activity.actEndTime) AS EndTime, duration.between(time('12:00'), time('14:00')).minutes AS BreakWindow_12_14\n",
    "WITH Student, Date, BreakWindow_12_14, COLLECT([StartTime, EndTime]) AS Activities\n",
    "UNWIND Activities AS activity\n",
    "WITH Student, Date, BreakWindow_12_14, activity[0] AS StartTime, activity[1] AS EndTime\n",
    "WITH Student, Date, BreakWindow_12_14,\n",
    "     CASE\n",
    "       WHEN StartTime >= time('14:00') OR EndTime <= time('12:00') THEN 0\n",
    "       WHEN StartTime < time('12:00') AND EndTime > time('14:00') THEN BreakWindow_12_14\n",
    "       WHEN StartTime >= time('12:00') AND StartTime < time('14:00') THEN duration.between(StartTime, time('14:00')).minutes\n",
    "       WHEN EndTime > time('12:00') AND EndTime <= time('14:00') THEN duration.between(time('12:00'), EndTime).minutes\n",
    "     END AS BookedDurationMinutes\n",
    "RETURN Student, Date, BreakWindow_12_14, BreakWindow_12_14 - SUM(BookedDurationMinutes) AS FreeTimeMinutes, SUM(BookedDurationMinutes) AS BookedTimeMinutes\n",
    "ORDER BY Date"
   ]
  },
  {
   "cell_type": "markdown",
   "metadata": {},
   "source": [
    "## rooms"
   ]
  },
  {
   "cell_type": "code",
   "execution_count": null,
   "metadata": {
    "vscode": {
     "languageId": "plaintext"
    }
   },
   "outputs": [],
   "source": [
    "MATCH (r:room)\n",
    "WHERE r.roomLatitude IS NOT NULL AND r.roomLongitude IS NOT NULL\n",
    "SET r.location = point({latitude: toFloat(r.roomLatitude), longitude: toFloat(r.roomLongitude)})"
   ]
  },
  {
   "cell_type": "code",
   "execution_count": null,
   "metadata": {
    "vscode": {
     "languageId": "plaintext"
    }
   },
   "outputs": [],
   "source": [
    "MATCH (room1:room), (room2:room)\n",
    "WHERE room1 <> room2 \n",
    "RETURN room1.roomName, room2.roomName, \n",
    "       point.distance(room1.location, room2.location) AS distanceInMeters"
   ]
  },
  {
   "cell_type": "markdown",
   "metadata": {},
   "source": [
    "* walking speed - 1.4 m/s -> divide distnace by 1.4 to get time in seconds\n",
    "  * does not consider actual walking routes"
   ]
  },
  {
   "cell_type": "code",
   "execution_count": null,
   "metadata": {
    "vscode": {
     "languageId": "plaintext"
    }
   },
   "outputs": [],
   "source": [
    "MATCH (r:demoRoom)\n",
    "SET r.location = point({latitude: toFloat(r.lat), longitude: toFloat(r.long)})"
   ]
  },
  {
   "cell_type": "code",
   "execution_count": null,
   "metadata": {
    "vscode": {
     "languageId": "plaintext"
    }
   },
   "outputs": [],
   "source": [
    "// possible use:\n",
    "\n",
    "MATCH (s:Student)-[:ATTENDS]->(a1:Activity)-[:LOCATED_IN]->(r1:demoRoom),\n",
    "      (s)-[:ATTENDS]->(a2:Activity)-[:LOCATED_IN]->(r2:demoRoom)\n",
    "WHERE a1 <> a2 AND \n",
    "      // Assuming activities have a 'startTime' property to determine adjacency\n",
    "      a2.startTime > a1.startTime AND \n",
    "      duration.between(a1.startTime, a2.startTime) < duration({minutes: 10}) // Adjust as needed\n",
    "RETURN s.name, a1.name, a2.name, \n",
    "       point.distance(r1.location, r2.location) AS distanceInMeters"
   ]
  },
  {
   "cell_type": "code",
   "execution_count": null,
   "metadata": {
    "vscode": {
     "languageId": "plaintext"
    }
   },
   "outputs": [],
   "source": [
    "MATCH (s:student)-[:ATTENDS]->(a1:activity)-[:OCCUPIES]->(r1:room),\n",
    "      (s)-[:ATTENDS]->(a2:activity)-[:OCCUPIES]->(r2:room)\n",
    "WHERE a1 <> a2 AND \n",
    "      // Assuming activities have a 'startTime' property to determine adjacency\n",
    "      a2.actStartTime > a1.actStartTime AND \n",
    "      duration.between(a1.actStartTime, a2.actStartTime) < duration({minutes: 10}) // Adjust as needed\n",
    "RETURN s.name, a1.name, a2.name, \n",
    "       point.distance(r1.location, r2.location) AS distanceInMeters"
   ]
  },
  {
   "cell_type": "markdown",
   "metadata": {},
   "source": [
    "1. Define a Penalty Function:\n",
    "\n",
    "* Decide on a penalty amount (x) to deduct for each violation.\n",
    "* Consider factors like:\n",
    "  * The distance between rooms (higher distance, higher penalty).\n",
    "  * The time between activities (shorter time, higher penalty). \n",
    "  * Any other relevant factors in your scenario.\n",
    "\n",
    "2. Modify the Cypher Query:\n",
    "\n",
    "* Add a CASE statement to calculate the penalty based on the distance and other factors.\n",
    "* Aggregate the penalties for each student."
   ]
  },
  {
   "cell_type": "code",
   "execution_count": null,
   "metadata": {
    "vscode": {
     "languageId": "plaintext"
    }
   },
   "outputs": [],
   "source": [
    "MATCH (s:Student)-[:ATTENDS]->(a1:Activity)-[:OCCUPIES]->(r1:room),\n",
    "      (s)-[:ATTENDS]->(a2:Activity)-[:OCCUPIES]->(r2:room)\n",
    "WHERE a1 <> a2 AND \n",
    "      a2.startTime > a1.startTime AND \n",
    "      duration.between(a1.startTime, a2.startTime) < duration({minutes: 10})\n",
    "WITH s, a1, a2, point.distance(r1.location, r2.location) AS distanceInMeters\n",
    "// Calculate penalty based on distance and other factors (adjust as needed)\n",
    "WITH s, SUM(\n",
    "    CASE \n",
    "        WHEN distanceInMeters > 500 THEN 2*x // Higher penalty for longer distances\n",
    "        WHEN distanceInMeters > 200 THEN x\n",
    "        ELSE 0\n",
    "    END\n",
    ") AS totalPenalty\n",
    "// Assuming students have a 'timetableQualityScore' property\n",
    "SET s.timetableQualityScore = s.timetableQualityScore - totalPenalty\n",
    "RETURN s.name, s.timetableQualityScore"
   ]
  }
 ],
 "metadata": {
  "language_info": {
   "name": "python"
  }
 },
 "nbformat": 4,
 "nbformat_minor": 2
}
