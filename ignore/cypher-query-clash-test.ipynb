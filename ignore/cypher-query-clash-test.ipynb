{
 "cells": [
  {
   "cell_type": "markdown",
   "metadata": {},
   "source": [
    "\n",
    "* 3 'activities'\n",
    "* 2 'students'\n",
    "* "
   ]
  },
  {
   "cell_type": "markdown",
   "metadata": {},
   "source": [
    "## Model 1: \n",
    "\n",
    "* current poc structure\n",
    "* separate nodes for each 'occurrence' of an activity\n"
   ]
  },
  {
   "cell_type": "code",
   "execution_count": null,
   "metadata": {
    "vscode": {
     "languageId": "plaintext"
    }
   },
   "outputs": [],
   "source": [
    "// Create unique activity nodes (TestActivityModel1)\n",
    "CREATE (:TestActivityModel1 { actName: \"ITGD\", date: date(\"2024-08-06\"), startTime: localtime(\"09:00:00\"), endTime: localtime(\"11:00:00\") })\n",
    "CREATE (:TestActivityModel1 { actName: \"ITGD\", date: date(\"2024-08-13\"), startTime: localtime(\"09:00:00\"), endTime: localtime(\"11:00:00\") })\n",
    "CREATE (:TestActivityModel1 { actName: \"ITGD\", date: date(\"2024-08-20\"), startTime: localtime(\"09:00:00\"), endTime: localtime(\"11:00:00\") })\n",
    "CREATE (:TestActivityModel1 { actName: \"ITGD\", date: date(\"2024-08-27\"), startTime: localtime(\"09:00:00\"), endTime: localtime(\"11:00:00\") })\n",
    "CREATE (:TestActivityModel1 { actName: \"ITGD\", date: date(\"2024-09-03\"), startTime: localtime(\"09:00:00\"), endTime: localtime(\"11:00:00\") })\n",
    "CREATE (:TestActivityModel1 { actName: \"Neo4j\", date: date(\"2024-07-30\"), startTime: localtime(\"10:00:00\"), endTime: localtime(\"11:00:00\") })\n",
    "CREATE (:TestActivityModel1 { actName: \"Neo4j\", date: date(\"2024-08-13\"), startTime: localtime(\"10:00:00\"), endTime: localtime(\"11:00:00\") })\n",
    "CREATE (:TestActivityModel1 { actName: \"Neo4j\", date: date(\"2024-08-27\"), startTime: localtime(\"10:00:00\"), endTime: localtime(\"11:00:00\") })\n",
    "CREATE (:TestActivityModel1 { actName: \"TigerDb\", date: date(\"2024-08-06\"), startTime: localtime(\"11:00:00\"), endTime: localtime(\"12:00:00\") })\n",
    "CREATE (:TestActivityModel1 { actName: \"TigerDb\", date: date(\"2024-08-13\"), startTime: localtime(\"11:00:00\"), endTime: localtime(\"12:00:00\") })\n",
    "\n",
    "// Create unique student nodes (TestStudentModel1)\n",
    "CREATE (:TestStudentModel1 { stuFirstName_anon: \"Alice\", stuID_anon: \"test-student-1\" })\n",
    "CREATE (:TestStudentModel1 { stuFirstName_anon: \"Bob\", stuID_anon: \"test-student-2\" })\n"
   ]
  },
  {
   "cell_type": "code",
   "execution_count": null,
   "metadata": {
    "vscode": {
     "languageId": "plaintext"
    }
   },
   "outputs": [],
   "source": [
    "// Create ATTENDS relationships (one student attends all TigerDb and Neo4j)\n",
    "MATCH (s:TestStudentModel1 { stuID_anon: \"test-student-1\" })\n",
    "MATCH (a:TestActivityModel1) WHERE a.actName IN [\"TigerDb\", \"Neo4j\"]\n",
    "CREATE (s)-[:ATTENDS]->(a);\n",
    "\n",
    "MATCH (s:TestStudentModel1 { stuID_anon: \"test-student-2\" })\n",
    "MATCH (a:TestActivityModel1) WHERE a.actName IN [\"ITGD\", \"Neo4j\"]\n",
    "MERGE (s)-[:ATTENDS]->(a) "
   ]
  },
  {
   "cell_type": "code",
   "execution_count": null,
   "metadata": {
    "vscode": {
     "languageId": "plaintext"
    }
   },
   "outputs": [],
   "source": [
    "// Delete all TestActivityModel1 nodes\n",
    "MATCH (a:TestActivityModel1)\n",
    "DETACH DELETE a; \n",
    "\n",
    "// Delete all TestStudentModel1 nodes\n",
    "MATCH (s:TestStudentModel1)\n",
    "DETACH DELETE s;"
   ]
  },
  {
   "cell_type": "markdown",
   "metadata": {},
   "source": [
    "###  clash query 1\n",
    "\n",
    "orginal: wrong: \n",
    "\n",
    "WHERE a1 <> a2 \n",
    "  AND a1.date = a2.date \n",
    "  AND a1.startTime >= a2.startTime \n",
    "  AND a2.startTime < a1.endTime  // Overlap condition\n",
    "  AND a1.startTime <> a2.endTime // Exclude \"touching\" cases"
   ]
  },
  {
   "cell_type": "code",
   "execution_count": null,
   "metadata": {
    "vscode": {
     "languageId": "plaintext"
    }
   },
   "outputs": [],
   "source": [
    "MATCH (s:TestStudentModel1)-[:ATTENDS]->(a1:TestActivityModel1)\n",
    "WITH s, a1\n",
    "MATCH (s)-[:ATTENDS]->(a2:TestActivityModel1) \n",
    "WHERE a1 <> a2 \n",
    "  AND a1.date = a2.date \n",
    "  AND (a1.startTime < a2.endTime AND a1.endTime > a2.startTime)  // Correct overlap condition\n",
    "  AND NOT (a1.startTime = a2.endTime OR a1.endTime = a2.startTime) // Exclude \"touching\" cases\n",
    "  AND a1.actName < a2.actName  // This ensures only one direction of the pair is returned\n",
    "RETURN s.stuFirstName_anon AS Student, \n",
    "       a1.date AS ClashDate, \n",
    "       a1.actName AS Activity1, \n",
    "       a1.startTime + \"-\" + a1.endTime AS Timeslot1, \n",
    "       a2.actName AS Activity2, \n",
    "       a2.startTime + \"-\" + a2.endTime AS Timeslot2\n",
    "ORDER BY Student, ClashDate;"
   ]
  },
  {
   "cell_type": "markdown",
   "metadata": {},
   "source": [
    "## model 2:\n",
    "\n",
    "* 1 activity\n",
    "* 2 students\n",
    "* date nodes\n",
    "* start time nodes\n",
    "* end time nodes"
   ]
  },
  {
   "cell_type": "code",
   "execution_count": null,
   "metadata": {
    "vscode": {
     "languageId": "plaintext"
    }
   },
   "outputs": [],
   "source": [
    "// Create unique time nodes\n",
    "CREATE (:TestStartTimeNode { time: localtime(\"09:00:00\") })\n",
    "CREATE (:TestStartTimeNode { time: localtime(\"10:00:00\") })\n",
    "CREATE (:TestStartTimeNode { time: localtime(\"11:00:00\") })\n",
    "CREATE (:TestEndTimeNode { time: localtime(\"11:00:00\") })\n",
    "CREATE (:TestEndTimeNode { time: localtime(\"12:00:00\") })\n",
    "\n",
    "// Create unique date nodes\n",
    "CREATE (:TestDateNode { date: date(\"2024-07-30\") })\n",
    "CREATE (:TestDateNode { date: date(\"2024-08-06\") })\n",
    "CREATE (:TestDateNode { date: date(\"2024-08-13\") })\n",
    "CREATE (:TestDateNode { date: date(\"2024-08-20\") })\n",
    "CREATE (:TestDateNode { date: date(\"2024-08-27\") })\n",
    "CREATE (:TestDateNode { date: date(\"2024-09-03\") })\n",
    "\n",
    "// Create activity nodes\n",
    "CREATE (:TestActivityModel2 { actName: \"ITGD\" })\n",
    "CREATE (:TestActivityModel2 { actName: \"Neo4j\" })\n",
    "CREATE (:TestActivityModel2 { actName: \"TigerDb\" });\n",
    "\n",
    "// Connect ITGD to dates and times (using MERGE)\n",
    "MATCH (a:TestActivityModel2 { actName: \"ITGD\" })\n",
    "MATCH (d:TestDateNode) WHERE d.date IN [date(\"2024-08-06\"), date(\"2024-08-13\"), date(\"2024-08-20\"), date(\"2024-08-27\"), date(\"2024-09-03\")]\n",
    "MERGE (a)-[:SCHEDULED_ON]->(d)\n",
    "WITH a\n",
    "MATCH (st:TestStartTimeNode { time: localtime(\"09:00:00\") })\n",
    "MATCH (et:TestEndTimeNode { time: localtime(\"11:00:00\") })\n",
    "MERGE (a)-[:STARTS_AT]->(st)\n",
    "MERGE (st)-[:ENDS_AT]->(et);\n",
    "\n",
    "// Connect Neo4j to dates and times (adjust dates/times and use MERGE)\n",
    "MATCH (a:TestActivityModel2 { actName: \"Neo4j\" })\n",
    "MATCH (d:TestDateNode) WHERE d.date IN [date(\"2024-07-30\"), date(\"2024-08-13\"), date(\"2024-08-27\")]\n",
    "MERGE (a)-[:SCHEDULED_ON]->(d)\n",
    "WITH a\n",
    "MATCH (st:TestStartTimeNode { time: localtime(\"10:00:00\") })\n",
    "MATCH (et:TestEndTimeNode { time: localtime(\"11:00:00\") })\n",
    "MERGE (a)-[:STARTS_AT]->(st)\n",
    "MERGE (st)-[:ENDS_AT]->(et);\n",
    "\n",
    "// Connect TigerDb to dates and times (adjust dates/times and use MERGE)\n",
    "MATCH (a:TestActivityModel2 { actName: \"TigerDb\" })\n",
    "MATCH (d:TestDateNode) WHERE d.date IN [date(\"2024-08-06\"), date(\"2024-08-13\")]\n",
    "MERGE (a)-[:SCHEDULED_ON]->(d)\n",
    "WITH a\n",
    "MATCH (st:TestStartTimeNode { time: localtime(\"11:00:00\") })\n",
    "MATCH (et:TestEndTimeNode { time: localtime(\"12:00:00\") })\n",
    "MERGE (a)-[:STARTS_AT]->(st)\n",
    "MERGE (st)-[:ENDS_AT]->(et);\n",
    "\n",
    "// Create Students and ATTENDS relationships (same as Model 1)\n",
    "CREATE (:TestStudentModel2 { stuFirstName_anon: \"Alice\", stuID_anon: \"test-student-1\" })\n",
    "CREATE (:TestStudentModel2 { stuFirstName_anon: \"Bob\", stuID_anon: \"test-student-2\" });\n",
    "\n",
    "MATCH (s:TestStudentModel2 { stuID_anon: \"test-student-1\" })\n",
    "MATCH (a:TestActivityModel2) WHERE a.actName IN [\"TigerDb\", \"Neo4j\"]\n",
    "CREATE (s)-[:ATTENDS]->(a);\n",
    "\n",
    "MATCH (s:TestStudentModel2 { stuID_anon: \"test-student-2\" })\n",
    "MATCH (a:TestActivityModel2) WHERE a.actName IN [\"ITGD\", \"Neo4j\"]\n",
    "MERGE (s)-[:ATTENDS]->(a) ;"
   ]
  },
  {
   "cell_type": "code",
   "execution_count": null,
   "metadata": {
    "vscode": {
     "languageId": "plaintext"
    }
   },
   "outputs": [],
   "source": [
    "MATCH (s:TestStudentModel2)-[:ATTENDS]->(a1:TestActivityModel2)-[:SCHEDULED_ON]->(d:TestDateNode)\n",
    "WITH s, a1, d\n",
    "MATCH (s)-[:ATTENDS]->(a2:TestActivityModel2)-[:SCHEDULED_ON]->(d) // Same date\n",
    "MATCH (a1)-[:STARTS_AT]->(st1:TestStartTimeNode)-[:ENDS_AT]->(et1:TestEndTimeNode) \n",
    "MATCH (a2)-[:STARTS_AT]->(st2:TestStartTimeNode)-[:ENDS_AT]->(et2:TestEndTimeNode) \n",
    "WHERE a1 <> a2 \n",
    "  AND (st1.time < et2.time AND et1.time > st2.time)  // Correct overlap condition\n",
    "  AND NOT (st1.time = et2.time OR et1.time = st2.time) // Exclude \"touching\" cases\n",
    "RETURN  s.stuFirstName_anon AS Student, \n",
    "        d.date AS ClashDate, \n",
    "        a1.actName AS Activity1, \n",
    "        st1.time + \"-\" + et1.time AS Timeslot1,\n",
    "        a2.actName AS Activity2,\n",
    "        st2.time + \"-\" + et2.time AS Timeslot2\n",
    "ORDER BY Student, ClashDate;\n"
   ]
  },
  {
   "cell_type": "markdown",
   "metadata": {},
   "source": [
    "### Delete\n"
   ]
  },
  {
   "cell_type": "code",
   "execution_count": null,
   "metadata": {
    "vscode": {
     "languageId": "plaintext"
    }
   },
   "outputs": [],
   "source": [
    "// Delete test data for Model 2\n",
    "MATCH (n) \n",
    "WHERE n:TestStudentModel2 OR n:TestActivityModel2 OR n:TestDateNode OR n:TestStartTimeNode OR n:TestEndTimeNode\n",
    "DETACH DELETE n"
   ]
  },
  {
   "cell_type": "code",
   "execution_count": null,
   "metadata": {
    "vscode": {
     "languageId": "plaintext"
    }
   },
   "outputs": [],
   "source": []
  },
  {
   "cell_type": "markdown",
   "metadata": {},
   "source": [
    "## Model 3:\n",
    "\n",
    "* 1 activity\n",
    "* 2 students\n",
    "* date nodes"
   ]
  },
  {
   "cell_type": "code",
   "execution_count": null,
   "metadata": {
    "vscode": {
     "languageId": "plaintext"
    }
   },
   "outputs": [],
   "source": [
    "// Create unique date nodes\n",
    "CREATE (:TestDateNodeModel3 { date: date(\"2024-07-30\") })\n",
    "CREATE (:TestDateNodeModel3 { date: date(\"2024-08-06\") })\n",
    "CREATE (:TestDateNodeModel3 { date: date(\"2024-08-13\") })\n",
    "CREATE (:TestDateNodeModel3 { date: date(\"2024-08-20\") })\n",
    "CREATE (:TestDateNodeModel3 { date: date(\"2024-08-27\") })\n",
    "CREATE (:TestDateNodeModel3 { date: date(\"2024-09-03\") })\n",
    "\n",
    "// Create activity nodes with start/end times as properties\n",
    "CREATE (:TestActivityModel3 { actName: \"ITGD\", startTime: localtime(\"09:00:00\"), endTime: localtime(\"11:00:00\") })\n",
    "CREATE (:TestActivityModel3 { actName: \"Neo4j\", startTime: localtime(\"10:00:00\"), endTime: localtime(\"11:00:00\") })\n",
    "CREATE (:TestActivityModel3 { actName: \"TigerDb\", startTime: localtime(\"11:00:00\"), endTime: localtime(\"12:00:00\") });\n",
    "\n",
    "// Connect Activities to Dates (using MERGE)\n",
    "MATCH (a:TestActivityModel3 { actName: \"ITGD\" })\n",
    "MATCH (d:TestDateNodeModel3) WHERE d.date IN [date(\"2024-08-06\"), date(\"2024-08-13\"), date(\"2024-08-20\"), date(\"2024-08-27\"), date(\"2024-09-03\")]\n",
    "MERGE (a)-[:SCHEDULED_ON]->(d);\n",
    "\n",
    "MATCH (a:TestActivityModel3 { actName: \"Neo4j\" })\n",
    "MATCH (d:TestDateNodeModel3) WHERE d.date IN [date(\"2024-07-30\"), date(\"2024-08-13\"), date(\"2024-08-27\")]\n",
    "MERGE (a)-[:SCHEDULED_ON]->(d);\n",
    "\n",
    "MATCH (a:TestActivityModel3 { actName: \"TigerDb\" })\n",
    "MATCH (d:TestDateNodeModel3) WHERE d.date IN [date(\"2024-08-06\"), date(\"2024-08-13\")]\n",
    "MERGE (a)-[:SCHEDULED_ON]->(d);\n",
    "\n",
    "// Create Students and ATTENDS relationships\n",
    "CREATE (:TestStudentModel3 { stuFirstName_anon: \"Alice\", stuID_anon: \"test-student-1\" })\n",
    "CREATE (:TestStudentModel3 { stuFirstName_anon: \"Bob\", stuID_anon: \"test-student-2\" });\n",
    "\n",
    "MATCH (s:TestStudentModel3 { stuID_anon: \"test-student-1\" })\n",
    "MATCH (a:TestActivityModel3) WHERE a.actName IN [\"TigerDb\", \"Neo4j\"]\n",
    "CREATE (s)-[:ATTENDS]->(a) ;\n",
    "\n",
    "MATCH (s:TestStudentModel3 { stuID_anon: \"test-student-2\" })\n",
    "MATCH (a:TestActivityModel3) WHERE a.actName IN [\"ITGD\", \"Neo4j\"]\n",
    "CREATE (s)-[:ATTENDS]->(a) ;"
   ]
  },
  {
   "cell_type": "code",
   "execution_count": null,
   "metadata": {
    "vscode": {
     "languageId": "plaintext"
    }
   },
   "outputs": [],
   "source": [
    "// Delete test data for Model 3\n",
    "MATCH (n) \n",
    "WHERE n:TestStudentModel3 OR n:TestActivityModel3 OR n:TestDateNodeModel3 \n",
    "DETACH DELETE n"
   ]
  },
  {
   "cell_type": "code",
   "execution_count": null,
   "metadata": {
    "vscode": {
     "languageId": "plaintext"
    }
   },
   "outputs": [],
   "source": [
    "MATCH (s:TestStudentModel3)-[:ATTENDS]->(a1:TestActivityModel3)-[:SCHEDULED_ON]->(d:TestDateNodeModel3)\n",
    "WITH s, a1, d\n",
    "MATCH (s)-[:ATTENDS]->(a2:TestActivityModel3)-[:SCHEDULED_ON]->(d) // Same date\n",
    "WHERE a1 <> a2\n",
    "  AND (a1.startTime < a2.endTime AND a1.endTime > a2.startTime)  // Correct overlap condition\n",
    "  AND NOT (a1.startTime = a2.endTime OR a1.endTime = a2.startTime) // Exclude \"touching\" cases\n",
    "RETURN s.stuFirstName_anon AS Student, \n",
    "       d.date AS ClashDate, \n",
    "       a1.actName AS Activity1, \n",
    "       a1.startTime + \"-\" + a1.endTime AS Timeslot1,\n",
    "       a2.actName AS Activity2,\n",
    "       a2.startTime + \"-\" + a2.endTime AS Timeslot2\n",
    "ORDER BY Student, ClashDate;\n"
   ]
  },
  {
   "cell_type": "markdown",
   "metadata": {},
   "source": [
    "## Model 4\n",
    "\n",
    "* 1 activity\n",
    "* 2 students\n",
    "* date nodes"
   ]
  },
  {
   "cell_type": "code",
   "execution_count": null,
   "metadata": {
    "vscode": {
     "languageId": "plaintext"
    }
   },
   "outputs": [],
   "source": [
    "// Create unique date nodes\n",
    "MERGE (:TestDateNodeModel4 { date: date(\"2024-07-30\") })\n",
    "MERGE (:TestDateNodeModel4 { date: date(\"2024-08-06\") })\n",
    "MERGE (:TestDateNodeModel4 { date: date(\"2024-08-13\") })\n",
    "MERGE (:TestDateNodeModel4 { date: date(\"2024-08-20\") })\n",
    "MERGE (:TestDateNodeModel4 { date: date(\"2024-08-27\") })\n",
    "MERGE (:TestDateNodeModel4 { date: date(\"2024-09-03\") })\n",
    "\n",
    "// Create activity nodes \n",
    "MERGE (:TestActivityModel4 { actName: \"ITGD\" })\n",
    "MERGE (:TestActivityModel4 { actName: \"Neo4j\" })\n",
    "MERGE (:TestActivityModel4 { actName: \"TigerDb\" });\n",
    "\n",
    "// Connect ITGD to Dates with START and END relationships\n",
    "MATCH (a:TestActivityModel4 { actName: \"ITGD\" })\n",
    "MATCH (d:TestDateNodeModel4) WHERE d.date IN [date(\"2024-08-06\"), date(\"2024-08-13\"), date(\"2024-08-20\"), date(\"2024-08-27\"), date(\"2024-09-03\")]\n",
    "MERGE (a)-[:STARTS { time: localtime(\"09:00:00\") }]->(d)\n",
    "MERGE (a)-[:ENDS { time: localtime(\"11:00:00\") }]->(d);\n",
    "\n",
    "// Connect Neo4j to Dates (adjust dates and times)\n",
    "MATCH (a:TestActivityModel4 { actName: \"Neo4j\" })\n",
    "MATCH (d:TestDateNodeModel4) WHERE d.date IN [date(\"2024-07-30\"), date(\"2024-08-13\"), date(\"2024-08-27\")]\n",
    "MERGE (a)-[:STARTS { time: localtime(\"10:00:00\") }]->(d)\n",
    "MERGE (a)-[:ENDS { time: localtime(\"11:00:00\") }]->(d);\n",
    "\n",
    "// Connect TigerDb to Dates (adjust dates and times)\n",
    "MATCH (a:TestActivityModel4 { actName: \"TigerDb\" })\n",
    "MATCH (d:TestDateNodeModel4) WHERE d.date IN [date(\"2024-08-06\"), date(\"2024-08-13\")]\n",
    "MERGE (a)-[:STARTS { time: localtime(\"11:00:00\") }]->(d)\n",
    "MERGE (a)-[:ENDS { time: localtime(\"12:00:00\") }]->(d);\n",
    "\n",
    "// Create Students and ATTENDS relationships\n",
    "MERGE (:TestStudentModel4 { stuFirstName_anon: \"Alice\", stuID_anon: \"test-student-1\" })\n",
    "MERGE (:TestStudentModel4 { stuFirstName_anon: \"Bob\", stuID_anon: \"test-student-2\" });\n",
    "\n",
    "MATCH (s:TestStudentModel4 { stuID_anon: \"test-student-1\" })\n",
    "MATCH (a:TestActivityModel4) WHERE a.actName IN [\"TigerDb\", \"Neo4j\"]\n",
    "MERGE (s)-[:ATTENDS]->(a) ;\n",
    "\n",
    "MATCH (s:TestStudentModel4 { stuID_anon: \"test-student-2\" })\n",
    "MATCH (a:TestActivityModel4) WHERE a.actName IN [\"ITGD\", \"Neo4j\"]\n",
    "MERGE (s)-[:ATTENDS]->(a) ;"
   ]
  },
  {
   "cell_type": "code",
   "execution_count": null,
   "metadata": {
    "vscode": {
     "languageId": "plaintext"
    }
   },
   "outputs": [],
   "source": [
    "MATCH (s:TestStudentModel4)-[:ATTENDS]->(a1:TestActivityModel4)-[r1:STARTS]->(d:TestDateNodeModel4)\n",
    "WITH s, a1, r1.time AS start1, d\n",
    "MATCH (a1)-[e1:ENDS]->(d)\n",
    "WITH s, a1, start1, e1.time AS end1, d\n",
    "MATCH (s)-[:ATTENDS]->(a2:TestActivityModel4)-[r2:STARTS]->(d)\n",
    "WITH s, a1, start1, end1, a2, r2.time AS start2, d\n",
    "MATCH (a2)-[e2:ENDS]->(d)\n",
    "WITH s, a1, start1, end1, a2, start2, e2.time AS end2, d\n",
    "WHERE a1 <> a2 \n",
    "  AND (start1 < end2 AND end1 > start2)  // Correct overlap condition\n",
    "  AND NOT (start1 = end2 OR end1 = start2) // Exclude \"touching\" cases\n",
    "  AND a1.actName < a2.actName  // Eliminate duplicate pairs by lexicographical order\n",
    "RETURN s.stuFirstName_anon AS Student, \n",
    "       d.date AS ClashDate, \n",
    "       a1.actName AS Activity1, \n",
    "       start1 AS StartTime1,\n",
    "       end1 AS EndTime1,\n",
    "       a2.actName AS Activity2,\n",
    "       start2 AS StartTime2,\n",
    "       end2 AS EndTime2\n",
    "ORDER BY s.stuFirstName_anon, ClashDate;\n",
    "\n"
   ]
  },
  {
   "cell_type": "code",
   "execution_count": null,
   "metadata": {
    "vscode": {
     "languageId": "plaintext"
    }
   },
   "outputs": [],
   "source": [
    "MATCH (n) \n",
    "WHERE n:TestStudentModel4 OR n:TestActivityModel4 OR n:TestDateNodeModel4\n",
    "DETACH DELETE n"
   ]
  }
 ],
 "metadata": {
  "language_info": {
   "name": "python"
  }
 },
 "nbformat": 4,
 "nbformat_minor": 2
}
