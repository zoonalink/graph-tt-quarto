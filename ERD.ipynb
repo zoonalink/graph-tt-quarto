{
 "cells": [
  {
   "cell_type": "code",
   "execution_count": 1,
   "metadata": {},
   "outputs": [
    {
     "name": "stdout",
     "output_type": "stream",
     "text": [
      "Requirement already satisfied: sqlalchemy in c:\\users\\pho-lovehagen\\appdata\\local\\programs\\python\\python312\\lib\\site-packages (2.0.25)\n",
      "Collecting networkx\n",
      "  Obtaining dependency information for networkx from https://files.pythonhosted.org/packages/38/e9/5f72929373e1a0e8d142a130f3f97e6ff920070f87f91c4e13e40e0fba5a/networkx-3.3-py3-none-any.whl.metadata\n",
      "  Downloading networkx-3.3-py3-none-any.whl.metadata (5.1 kB)\n",
      "Requirement already satisfied: matplotlib in c:\\users\\pho-lovehagen\\appdata\\local\\programs\\python\\python312\\lib\\site-packages (3.8.2)\n",
      "Requirement already satisfied: typing-extensions>=4.6.0 in c:\\users\\pho-lovehagen\\appdata\\local\\programs\\python\\python312\\lib\\site-packages (from sqlalchemy) (4.9.0)\n",
      "Requirement already satisfied: greenlet!=0.4.17 in c:\\users\\pho-lovehagen\\appdata\\local\\programs\\python\\python312\\lib\\site-packages (from sqlalchemy) (3.0.3)\n",
      "Requirement already satisfied: contourpy>=1.0.1 in c:\\users\\pho-lovehagen\\appdata\\local\\programs\\python\\python312\\lib\\site-packages (from matplotlib) (1.2.0)\n",
      "Requirement already satisfied: cycler>=0.10 in c:\\users\\pho-lovehagen\\appdata\\local\\programs\\python\\python312\\lib\\site-packages (from matplotlib) (0.12.1)\n",
      "Requirement already satisfied: fonttools>=4.22.0 in c:\\users\\pho-lovehagen\\appdata\\local\\programs\\python\\python312\\lib\\site-packages (from matplotlib) (4.47.2)\n",
      "Requirement already satisfied: kiwisolver>=1.3.1 in c:\\users\\pho-lovehagen\\appdata\\local\\programs\\python\\python312\\lib\\site-packages (from matplotlib) (1.4.5)\n",
      "Requirement already satisfied: numpy<2,>=1.21 in c:\\users\\pho-lovehagen\\appdata\\local\\programs\\python\\python312\\lib\\site-packages (from matplotlib) (1.26.3)\n",
      "Requirement already satisfied: packaging>=20.0 in c:\\users\\pho-lovehagen\\appdata\\roaming\\python\\python312\\site-packages (from matplotlib) (23.2)\n",
      "Requirement already satisfied: pillow>=8 in c:\\users\\pho-lovehagen\\appdata\\local\\programs\\python\\python312\\lib\\site-packages (from matplotlib) (10.2.0)\n",
      "Requirement already satisfied: pyparsing>=2.3.1 in c:\\users\\pho-lovehagen\\appdata\\local\\programs\\python\\python312\\lib\\site-packages (from matplotlib) (3.1.1)\n",
      "Requirement already satisfied: python-dateutil>=2.7 in c:\\users\\pho-lovehagen\\appdata\\roaming\\python\\python312\\site-packages (from matplotlib) (2.8.2)\n",
      "Requirement already satisfied: six>=1.5 in c:\\users\\pho-lovehagen\\appdata\\roaming\\python\\python312\\site-packages (from python-dateutil>=2.7->matplotlib) (1.16.0)\n",
      "Downloading networkx-3.3-py3-none-any.whl (1.7 MB)\n",
      "   ---------------------------------------- 0.0/1.7 MB ? eta -:--:--\n",
      "   ---------------------------------------- 0.0/1.7 MB ? eta -:--:--\n",
      "   ---------------------------------------- 0.0/1.7 MB ? eta -:--:--\n",
      "    --------------------------------------- 0.0/1.7 MB 435.7 kB/s eta 0:00:04\n",
      "   ------- -------------------------------- 0.3/1.7 MB 2.9 MB/s eta 0:00:01\n",
      "   ---------------------------------- ----- 1.5/1.7 MB 9.3 MB/s eta 0:00:01\n",
      "   ---------------------------------------- 1.7/1.7 MB 8.3 MB/s eta 0:00:00\n",
      "Installing collected packages: networkx\n",
      "Successfully installed networkx-3.3\n",
      "Note: you may need to restart the kernel to use updated packages.\n"
     ]
    },
    {
     "name": "stderr",
     "output_type": "stream",
     "text": [
      "\n",
      "[notice] A new release of pip is available: 23.2.1 -> 24.1.2\n",
      "[notice] To update, run: python.exe -m pip install --upgrade pip\n"
     ]
    }
   ],
   "source": [
    "%pip install sqlalchemy networkx matplotlib"
   ]
  },
  {
   "cell_type": "code",
   "execution_count": 5,
   "metadata": {},
   "outputs": [],
   "source": [
    "import pyodbc\n",
    "import networkx as nx\n",
    "import matplotlib.pyplot as plt\n",
    "\n",
    "def generate_erd(connection_string, tables_of_interest):\n",
    "    # Connect to the database\n",
    "    conn = pyodbc.connect(connection_string)\n",
    "    cursor = conn.cursor()\n",
    "    \n",
    "    # Create a graph\n",
    "    G = nx.Graph()\n",
    "    \n",
    "    # Add nodes (tables) to the graph\n",
    "    for table in tables_of_interest:\n",
    "        G.add_node(table)\n",
    "    \n",
    "    # Function to get foreign keys for a table\n",
    "    def get_foreign_keys(table_name):\n",
    "        query = f\"\"\"\n",
    "        SELECT \n",
    "            OBJECT_NAME(f.parent_object_id) AS TableName,\n",
    "            COL_NAME(fc.parent_object_id, fc.parent_column_id) AS ColumnName,\n",
    "            OBJECT_NAME (f.referenced_object_id) AS ReferenceTableName,\n",
    "            COL_NAME(fc.referenced_object_id, fc.referenced_column_id) AS ReferenceColumnName\n",
    "        FROM \n",
    "            sys.foreign_keys AS f\n",
    "        INNER JOIN \n",
    "            sys.foreign_key_columns AS fc \n",
    "                ON f.OBJECT_ID = fc.constraint_object_id\n",
    "        WHERE \n",
    "            OBJECT_NAME(f.parent_object_id) = ?\n",
    "        \"\"\"\n",
    "        cursor.execute(query, table_name)\n",
    "        return cursor.fetchall()\n",
    "    \n",
    "    # Add edges (relationships) to the graph\n",
    "    for table in tables_of_interest:\n",
    "        fks = get_foreign_keys(table)\n",
    "        for fk in fks:\n",
    "            if fk.ReferenceTableName in tables_of_interest:\n",
    "                G.add_edge(fk.TableName, fk.ReferenceTableName)\n",
    "    \n",
    "    # Close the database connection\n",
    "    conn.close()\n",
    "    \n",
    "    # Draw the graph\n",
    "    plt.figure(figsize=(12, 8))\n",
    "    pos = nx.spring_layout(G)\n",
    "    nx.draw(G, pos, with_labels=True, node_color='lightblue', \n",
    "            node_size=3000, font_size=10, font_weight='bold')\n",
    "    \n",
    "    # Add edge labels\n",
    "    edge_labels = {(u, v): '' for u, v in G.edges()}\n",
    "    nx.draw_networkx_edge_labels(G, pos, edge_labels=edge_labels)\n",
    "    \n",
    "    plt.title(\"Entity Relationship Diagram\")\n",
    "    plt.axis('off')\n",
    "    plt.tight_layout()\n",
    "    plt.show()\n",
    "\n",
    "\n"
   ]
  },
  {
   "cell_type": "code",
   "execution_count": 3,
   "metadata": {},
   "outputs": [],
   "source": [
    "# Store credentials - sql\n",
    "server = 'qfr-cts07'\n",
    "database = 'RDB_MAIN2223'\n",
    "connection_string = f'DRIVER={{ODBC Driver 17 for SQL Server}};SERVER={server};DATABASE={database};Trusted_Connection=yes;'"
   ]
  },
  {
   "cell_type": "code",
   "execution_count": null,
   "metadata": {},
   "outputs": [],
   "source": [
    "[RDB_MAIN2223].[rdowner].[V_POS]\n",
    "[RDB_MAIN2223].[rdowner].[V_STUDENTSET]\n",
    "[RDB_MAIN2223].[rdowner].[V_ACTIVITY_STUDENTSET]\n",
    "[RDB_MAIN2223].[rdowner].[V_ACTIVITY]\n",
    "[RDB_MAIN2223].[rdowner].[V_ACTIVITY_LOCATION] \n",
    "[RDB_MAIN2223].[rdowner].[V_ACTIVITY_MODULE]\n",
    "[RDB_MAIN2223].[rdowner].[V_ACTIVITY_STAFF]\n",
    "[RDB_MAIN2223].[rdowner].[V_STAFF]\n",
    "[RDB_MAIN2223].[rdowner].[V_ACTIVITY_DATETIME] \n",
    "[RDB_MAIN2223].[rdowner].[V_STUDENTSET_MODULE]\n",
    "[RDB_MAIN2223].[rdowner].[V_MODULE]\n",
    " [RDB_MAIN2223].[rdowner].[V_LOCATION]\n",
    " [RDB_MAIN2223].[rdowner].[V_POS_MODULE]\n",
    " [RDB_MAIN2223].[rdowner].[V_ACTIVITYTYPE]\n"
   ]
  },
  {
   "cell_type": "code",
   "execution_count": 6,
   "metadata": {},
   "outputs": [
    {
     "name": "stderr",
     "output_type": "stream",
     "text": [
      "C:\\Users\\pho-lovehagen\\AppData\\Local\\Temp\\ipykernel_29272\\1812282314.py:58: UserWarning: This figure includes Axes that are not compatible with tight_layout, so results might be incorrect.\n",
      "  plt.tight_layout()\n"
     ]
    },
    {
     "data": {
      "image/png": "[encoded data removed]",
      "text/plain": [
       "<Figure size 1200x800 with 1 Axes>"
      ]
     },
     "metadata": {},
     "output_type": "display_data"
    }
   ],
   "source": [
    "\n",
    "\n",
    "# Usage\n",
    "connection_string = \"DRIVER={ODBC Driver 17 for SQL Server};SERVER=qfr-cts07;DATABASE=RDB_MAIN2223;Trusted_Connection=yes;\"\n",
    "tables_of_interest = ['[RDB_MAIN2223].[rdowner].[V_STUDENTSET]',\n",
    "'[RDB_MAIN2223].[rdowner].[V_ACTIVITY_STUDENTSET]']\n",
    "generate_erd(connection_string, tables_of_interest)"
   ]
  }
 ],
 "metadata": {
  "kernelspec": {
   "display_name": "Python 3",
   "language": "python",
   "name": "python3"
  },
  "language_info": {
   "codemirror_mode": {
    "name": "ipython",
    "version": 3
   },
   "file_extension": ".py",
   "mimetype": "text/x-python",
   "name": "python",
   "nbconvert_exporter": "python",
   "pygments_lexer": "ipython3",
   "version": "3.12.1"
  }
 },
 "nbformat": 4,
 "nbformat_minor": 2
}
