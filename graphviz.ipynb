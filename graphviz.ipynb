{
 "cells": [
  {
   "cell_type": "code",
   "execution_count": 1,
   "metadata": {},
   "outputs": [
    {
     "name": "stdout",
     "output_type": "stream",
     "text": [
      "Defaulting to user installation because normal site-packages is not writeableNote: you may need to restart the kernel to use updated packages.\n"
     ]
    },
    {
     "name": "stderr",
     "output_type": "stream",
     "text": [
      "\n",
      "[notice] A new release of pip available: 22.3.1 -> 24.2\n",
      "[notice] To update, run: python.exe -m pip install --upgrade pip\n"
     ]
    },
    {
     "name": "stdout",
     "output_type": "stream",
     "text": [
      "\n",
      "Collecting pandocfilters\n",
      "  Downloading pandocfilters-1.5.1-py2.py3-none-any.whl (8.7 kB)\n",
      "Installing collected packages: pandocfilters\n",
      "Successfully installed pandocfilters-1.5.1\n"
     ]
    }
   ],
   "source": [
    "#%pip install quarto\n",
    "%pip install pandocfilters\n"
   ]
  },
  {
   "cell_type": "code",
   "execution_count": 19,
   "metadata": {},
   "outputs": [],
   "source": [
    "import graphviz\n",
    "import random\n",
    "import string\n",
    "from collections import defaultdict\n",
    "\n",
    "def generate_random_graph(num_nodes=50, num_edges=100, num_clusters=5, colors=None):\n",
    "    \"\"\"Generates a random Graphviz graph with clusters and random colors.\n",
    "\n",
    "    Args:\n",
    "        num_nodes: Number of nodes in the graph.\n",
    "        num_edges: Number of edges in the graph.\n",
    "        num_clusters: Number of clusters to create.\n",
    "        colors: List of colors to use for clusters (optional). If not provided, random colors will be used.\n",
    "    \"\"\"\n",
    "\n",
    "    dot = graphviz.Digraph(\"G\")\n",
    "    dot.attr(fontname=\"Helvetica,Arial,sans-serif\")\n",
    "    dot.attr(layout=\"neato\")\n",
    "    dot.attr(start=\"random\")\n",
    "    dot.attr(overlap=\"false\")\n",
    "    dot.attr(splines=\"true\")\n",
    "    dot.attr(size=\"8,8\")\n",
    "    #dot.attr(dpi=\"300\")\n",
    "\n",
    "    # Assign nodes to clusters and generate random colors if not provided\n",
    "    cluster_assignments = {}\n",
    "    if colors is None:\n",
    "        colors = [\"#%06x\" % random.randint(0, 0xFFFFFF) for _ in range(num_clusters)] \n",
    "\n",
    "    for i in range(num_nodes):\n",
    "        cluster_assignments[i] = random.randint(0, num_clusters - 1)\n",
    "\n",
    "    # Generate random node names and add to their respective clusters with color\n",
    "    nodes = []\n",
    "    for i in range(num_nodes):\n",
    "        node_name = ''.join(random.choices(string.ascii_lowercase + string.digits, k=8))\n",
    "        nodes.append(node_name)\n",
    "        cluster_id = cluster_assignments[i]\n",
    "        color = colors[cluster_id]\n",
    "        dot.node(node_name, label=\"\", shape=\"circle\", height=\"0.12\", width=\"0.12\", fontsize=\"1\", fillcolor=color, style=\"filled\")\n",
    "        \n",
    "\n",
    "    # Generate random edges (with a higher probability of staying within clusters)\n",
    "    edges = []\n",
    "    for _ in range(num_edges):\n",
    "        src_cluster = random.randint(0, num_clusters - 1)\n",
    "        dst_cluster = src_cluster if random.random() < 0.8 else random.randint(0, num_clusters - 1)  # 80% chance of staying in cluster\n",
    "        src_node = random.choice([node for i, node in enumerate(nodes) if cluster_assignments[i] == src_cluster])\n",
    "        dst_node = random.choice([node for i, node in enumerate(nodes) if cluster_assignments[i] == dst_cluster])\n",
    "        edges.append((src_node, dst_node))\n",
    "\n",
    "    # Add edges to the graph\n",
    "    for edge in edges:\n",
    "        dot.edge(*edge)\n",
    "\n",
    "    return dot\n",
    "\n"
   ]
  },
  {
   "cell_type": "code",
   "execution_count": 21,
   "metadata": {},
   "outputs": [],
   "source": [
    "# Generate a random graph\n",
    "graph = generate_random_graph(num_nodes=100, num_edges=200, num_clusters=5)\n",
    "\n",
    "# Render and save the graph\n",
    "#graph.render('random_graph', format='png')\n",
    "\n",
    "with open('random_graph.dot', 'w') as f:\n",
    "    f.write(graph.source)"
   ]
  }
 ],
 "metadata": {
  "kernelspec": {
   "display_name": "Python 3",
   "language": "python",
   "name": "python3"
  },
  "language_info": {
   "codemirror_mode": {
    "name": "ipython",
    "version": 3
   },
   "file_extension": ".py",
   "mimetype": "text/x-python",
   "name": "python",
   "nbconvert_exporter": "python",
   "pygments_lexer": "ipython3",
   "version": "3.11.3"
  }
 },
 "nbformat": 4,
 "nbformat_minor": 2
}
